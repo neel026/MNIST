{
  "nbformat": 4,
  "nbformat_minor": 0,
  "metadata": {
    "colab": {
      "name": "Untitled0.ipynb",
      "provenance": [],
      "collapsed_sections": []
    },
    "kernelspec": {
      "name": "python3",
      "display_name": "Python 3"
    },
    "accelerator": "GPU"
  },
  "cells": [
    {
      "cell_type": "code",
      "metadata": {
        "id": "4o_dSXp9sYNy",
        "colab_type": "code",
        "colab": {}
      },
      "source": [
        "from tensorflow.python.keras.datasets import mnist\n",
        "from tensorflow.python.keras.models import Sequential\n",
        "from tensorflow.python.keras.layers import Dense\n",
        "from tensorflow.python.keras.layers import Dropout\n",
        "from tensorflow.python.keras.utils import np_utils\n",
        "import matplotlib.pyplot as plt"
      ],
      "execution_count": 0,
      "outputs": []
    },
    {
      "cell_type": "code",
      "metadata": {
        "id": "7CnfYrhqEZL4",
        "colab_type": "code",
        "outputId": "4b1f409b-073e-4f4f-8d5c-b6e88def26af",
        "colab": {
          "base_uri": "https://localhost:8080/",
          "height": 302
        }
      },
      "source": [
        "(X_train, y_train), (X_test, y_test) = mnist.load_data()\n",
        "plt.subplot(221)\n",
        "plt.imshow(X_train[0], cmap=plt.get_cmap('gray'))\n",
        "plt.subplot(222)\n",
        "plt.imshow(X_train[1], cmap=plt.get_cmap('gray'))\n",
        "plt.subplot(223)\n",
        "plt.imshow(X_train[2], cmap=plt.get_cmap('gray'))\n",
        "plt.subplot(224)\n",
        "plt.imshow(X_train[3], cmap=plt.get_cmap('gray'))\n",
        "plt.show()"
      ],
      "execution_count": 2,
      "outputs": [
        {
          "output_type": "stream",
          "text": [
            "Downloading data from https://storage.googleapis.com/tensorflow/tf-keras-datasets/mnist.npz\n",
            "11493376/11490434 [==============================] - 0s 0us/step\n"
          ],
          "name": "stdout"
        },
        {
          "output_type": "display_data",
          "data": {
            "image/png": "[encoded data removed]",
            "text/plain": [
              "<Figure size 432x288 with 4 Axes>"
            ]
          },
          "metadata": {
            "tags": []
          }
        }
      ]
    },
    {
      "cell_type": "code",
      "metadata": {
        "id": "yS1IouiysZ0-",
        "colab_type": "code",
        "outputId": "23b1da95-95e0-4a59-bfa1-3a227e8c4d99",
        "colab": {
          "base_uri": "https://localhost:8080/",
          "height": 442
        }
      },
      "source": [
        "(X_train, y_train), (X_test, y_test) = mnist.load_data()\n",
        "# flatten 28*28 images to a 784 vector for each image\n",
        "num_pixels = X_train.shape[1] * X_train.shape[2]\n",
        "X_train = X_train.reshape((X_train.shape[0], num_pixels)).astype('float32')\n",
        "X_test = X_test.reshape((X_test.shape[0], num_pixels)).astype('float32')\n",
        "# normalize inputs from 0-255 to 0-1\n",
        "X_train = X_train / 255\n",
        "X_test = X_test / 255\n",
        "\n",
        "y_train = np_utils.to_categorical(y_train)\n",
        "y_test = np_utils.to_categorical(y_test)\n",
        "num_classes = y_test.shape[1]\n",
        "# define baseline model\n",
        "def baseline_model():\n",
        "\t# create model\n",
        "\tmodel = Sequential()\n",
        "\tmodel.add(Dense(num_pixels, input_dim=num_pixels, kernel_initializer='normal', activation='relu'))\n",
        "\tmodel.add(Dense(num_classes, kernel_initializer='normal', activation='softmax'))\n",
        "\t# Compile model\n",
        "\tmodel.compile(loss='categorical_crossentropy', optimizer='adam', metrics=['accuracy'])\n",
        "\treturn model\n",
        "# build the model\n",
        "model = baseline_model()\n",
        "# Fit the model\n",
        "history=model.fit(X_train, y_train, validation_data=(X_test, y_test), epochs=12, batch_size=200, verbose=2)\n",
        "# Final evaluation of the model\n",
        "scores = model.evaluate(X_test, y_test, verbose=0)\n",
        "print(\"Baseline Error: %.2f%%\" % (100-scores[1]*100))"
      ],
      "execution_count": 5,
      "outputs": [
        {
          "output_type": "stream",
          "text": [
            "Epoch 1/12\n",
            "300/300 - 1s - loss: 0.2811 - accuracy: 0.9200 - val_loss: 0.1429 - val_accuracy: 0.9577\n",
            "Epoch 2/12\n",
            "300/300 - 1s - loss: 0.1110 - accuracy: 0.9681 - val_loss: 0.1086 - val_accuracy: 0.9662\n",
            "Epoch 3/12\n",
            "300/300 - 1s - loss: 0.0705 - accuracy: 0.9800 - val_loss: 0.0782 - val_accuracy: 0.9761\n",
            "Epoch 4/12\n",
            "300/300 - 1s - loss: 0.0504 - accuracy: 0.9858 - val_loss: 0.0677 - val_accuracy: 0.9804\n",
            "Epoch 5/12\n",
            "300/300 - 1s - loss: 0.0358 - accuracy: 0.9901 - val_loss: 0.0664 - val_accuracy: 0.9798\n",
            "Epoch 6/12\n",
            "300/300 - 1s - loss: 0.0268 - accuracy: 0.9932 - val_loss: 0.0619 - val_accuracy: 0.9800\n",
            "Epoch 7/12\n",
            "300/300 - 1s - loss: 0.0197 - accuracy: 0.9949 - val_loss: 0.0615 - val_accuracy: 0.9809\n",
            "Epoch 8/12\n",
            "300/300 - 1s - loss: 0.0148 - accuracy: 0.9964 - val_loss: 0.0601 - val_accuracy: 0.9808\n",
            "Epoch 9/12\n",
            "300/300 - 1s - loss: 0.0112 - accuracy: 0.9976 - val_loss: 0.0609 - val_accuracy: 0.9818\n",
            "Epoch 10/12\n",
            "300/300 - 1s - loss: 0.0088 - accuracy: 0.9981 - val_loss: 0.0617 - val_accuracy: 0.9810\n",
            "Epoch 11/12\n",
            "300/300 - 1s - loss: 0.0065 - accuracy: 0.9990 - val_loss: 0.0667 - val_accuracy: 0.9814\n",
            "Epoch 12/12\n",
            "300/300 - 1s - loss: 0.0053 - accuracy: 0.9992 - val_loss: 0.0715 - val_accuracy: 0.9780\n",
            "Baseline Error: 2.20%\n"
          ],
          "name": "stdout"
        }
      ]
    },
    {
      "cell_type": "code",
      "metadata": {
        "id": "JgAySBV4QheF",
        "colab_type": "code",
        "colab": {
          "base_uri": "https://localhost:8080/",
          "height": 295
        },
        "outputId": "4eca304e-084b-45b8-b35b-655d96ee9336"
      },
      "source": [
        "plt.plot(history.history['accuracy'])\n",
        "plt.plot(history.history['val_accuracy'])\n",
        "plt.title('Model accuracy')\n",
        "plt.ylabel('Accuracy')\n",
        "plt.xlabel('Epoch')\n",
        "plt.legend(['Train', 'Test'], loc='upper left')\n",
        "plt.show()"
      ],
      "execution_count": 7,
      "outputs": [
        {
          "output_type": "display_data",
          "data": {
            "image/png": "[encoded data removed]",
            "text/plain": [
              "<Figure size 432x288 with 1 Axes>"
            ]
          },
          "metadata": {
            "tags": []
          }
        }
      ]
    },
    {
      "cell_type": "code",
      "metadata": {
        "id": "Uw6L_Md1FBNy",
        "colab_type": "code",
        "outputId": "fb384804-c681-441b-9e56-e77c56734d85",
        "colab": {
          "base_uri": "https://localhost:8080/",
          "height": 374
        }
      },
      "source": [
        "# Simple CNN for the MNIST Dataset\n",
        "from tensorflow.python.keras.datasets import mnist\n",
        "from tensorflow.python.keras.models import Sequential\n",
        "from tensorflow.python.keras.layers import Dense\n",
        "from tensorflow.python.keras.layers import Dropout\n",
        "from tensorflow.python.keras.layers import Flatten\n",
        "from tensorflow.python.keras.layers.convolutional import Conv2D\n",
        "from tensorflow.python.keras.layers.convolutional import MaxPooling2D\n",
        "from tensorflow.python.keras.utils import np_utils\n",
        "# load data\n",
        "(X_train, y_train), (X_test, y_test) = mnist.load_data()\n",
        "# reshape to be [samples][width][height][channels]\n",
        "X_train = X_train.reshape((X_train.shape[0], 28, 28, 1)).astype('float32')\n",
        "X_test = X_test.reshape((X_test.shape[0], 28, 28, 1)).astype('float32')\n",
        "# normalize inputs from 0-255 to 0-1\n",
        "X_train = X_train / 255\n",
        "X_test = X_test / 255\n",
        "# one hot encode outputs\n",
        "y_train = np_utils.to_categorical(y_train)\n",
        "y_test = np_utils.to_categorical(y_test)\n",
        "num_classes = y_test.shape[1]\n",
        "# define a simple CNN model\n",
        "def baseline_model():\n",
        "\t# create model\n",
        "\tmodel = Sequential()\n",
        "\tmodel.add(Conv2D(32, (5, 5), input_shape=(28, 28, 1), activation='relu'))\n",
        "\tmodel.add(MaxPooling2D())\n",
        "\tmodel.add(Dropout(0.3))\n",
        "\tmodel.add(Flatten())\n",
        "\tmodel.add(Dense(128, activation='relu'))\n",
        "\tmodel.add(Dense(num_classes, activation='softmax'))\n",
        "\t# Compile model\n",
        "\tmodel.compile(loss='categorical_crossentropy', optimizer='adam', metrics=['accuracy'])\n",
        "\treturn model\n",
        "# build the model\n",
        "model = baseline_model()\n",
        "# Fit the model\n",
        "history=model.fit(X_train, y_train, validation_data=(X_test, y_test), epochs=10, batch_size=200)\n",
        "# Final evaluation of the model\n",
        "scores = model.evaluate(X_test, y_test, verbose=0)\n",
        "print(\"CNN Error: %.2f%%\" % (100-scores[1]*100))"
      ],
      "execution_count": 12,
      "outputs": [
        {
          "output_type": "stream",
          "text": [
            "Epoch 1/10\n",
            "300/300 [==============================] - 1s 5ms/step - loss: 0.2516 - accuracy: 0.9281 - val_loss: 0.0806 - val_accuracy: 0.9756\n",
            "Epoch 2/10\n",
            "300/300 [==============================] - 1s 4ms/step - loss: 0.0757 - accuracy: 0.9778 - val_loss: 0.0513 - val_accuracy: 0.9835\n",
            "Epoch 3/10\n",
            "300/300 [==============================] - 1s 4ms/step - loss: 0.0559 - accuracy: 0.9834 - val_loss: 0.0398 - val_accuracy: 0.9866\n",
            "Epoch 4/10\n",
            "300/300 [==============================] - 1s 4ms/step - loss: 0.0444 - accuracy: 0.9863 - val_loss: 0.0385 - val_accuracy: 0.9870\n",
            "Epoch 5/10\n",
            "300/300 [==============================] - 1s 4ms/step - loss: 0.0371 - accuracy: 0.9886 - val_loss: 0.0342 - val_accuracy: 0.9894\n",
            "Epoch 6/10\n",
            "300/300 [==============================] - 1s 4ms/step - loss: 0.0308 - accuracy: 0.9903 - val_loss: 0.0327 - val_accuracy: 0.9902\n",
            "Epoch 7/10\n",
            "300/300 [==============================] - 1s 4ms/step - loss: 0.0265 - accuracy: 0.9919 - val_loss: 0.0300 - val_accuracy: 0.9902\n",
            "Epoch 8/10\n",
            "300/300 [==============================] - 1s 4ms/step - loss: 0.0222 - accuracy: 0.9929 - val_loss: 0.0365 - val_accuracy: 0.9880\n",
            "Epoch 9/10\n",
            "300/300 [==============================] - 1s 4ms/step - loss: 0.0205 - accuracy: 0.9933 - val_loss: 0.0332 - val_accuracy: 0.9885\n",
            "Epoch 10/10\n",
            "300/300 [==============================] - 1s 4ms/step - loss: 0.0176 - accuracy: 0.9941 - val_loss: 0.0307 - val_accuracy: 0.9901\n",
            "CNN Error: 0.99%\n"
          ],
          "name": "stdout"
        }
      ]
    },
    {
      "cell_type": "code",
      "metadata": {
        "id": "2PBh5JBUR7-m",
        "colab_type": "code",
        "colab": {
          "base_uri": "https://localhost:8080/",
          "height": 295
        },
        "outputId": "c03efb1a-dbe3-4c1c-f5d0-0c7806d92b46"
      },
      "source": [
        "plt.plot(history.history['accuracy'])\n",
        "plt.plot(history.history['val_accuracy'])\n",
        "plt.title('Model accuracy')\n",
        "plt.ylabel('Accuracy')\n",
        "plt.xlabel('Epoch')\n",
        "plt.legend(['Train', 'Test'], loc='upper left')\n",
        "plt.show()"
      ],
      "execution_count": 13,
      "outputs": [
        {
          "output_type": "display_data",
          "data": {
            "image/png": "[encoded data removed]",
            "text/plain": [
              "<Figure size 432x288 with 1 Axes>"
            ]
          },
          "metadata": {
            "tags": []
          }
        }
      ]
    },
    {
      "cell_type": "code",
      "metadata": {
        "id": "NEOCoQRfHvKI",
        "colab_type": "code",
        "outputId": "f569c070-4fcc-478e-b81f-ab9abc85e389",
        "colab": {
          "base_uri": "https://localhost:8080/",
          "height": 374
        }
      },
      "source": [
        "# Simple CNN for the MNIST Dataset\n",
        "from tensorflow.python.keras.datasets import mnist\n",
        "from tensorflow.python.keras.models import Sequential\n",
        "from tensorflow.python.keras.layers import Dense\n",
        "from tensorflow.python.keras.layers import Dropout\n",
        "from tensorflow.python.keras.layers import Flatten\n",
        "from tensorflow.python.keras.layers.convolutional import Conv2D\n",
        "from tensorflow.python.keras.layers.convolutional import MaxPooling2D\n",
        "from tensorflow.python.keras.utils import np_utils\n",
        "# load data\n",
        "(X_train, y_train), (X_test, y_test) = mnist.load_data()\n",
        "# reshape to be [samples][width][height][channels]\n",
        "X_train = X_train.reshape((X_train.shape[0], 28, 28, 1)).astype('float32')\n",
        "X_test = X_test.reshape((X_test.shape[0], 28, 28, 1)).astype('float32')\n",
        "# normalize inputs from 0-255 to 0-1\n",
        "X_train = X_train / 255\n",
        "X_test = X_test / 255\n",
        "# one hot encode outputs\n",
        "y_train = np_utils.to_categorical(y_train)\n",
        "y_test = np_utils.to_categorical(y_test)\n",
        "num_classes = y_test.shape[1]\n",
        "\n",
        "from sklearn.utils import shuffle\n",
        "X_t,y_t=shuffle(X_train,y_train)\n",
        "\n",
        "# define a simple CNN model\n",
        "def baseline_model():\n",
        "\t# create model\n",
        "    model = Sequential()\n",
        "    model.add(Conv2D(40, (5, 5),padding='valid',input_shape=(28, 28, 1), activation='relu'))\n",
        "    model.add(MaxPooling2D())\n",
        "    model.add(Conv2D(20, (3, 3), activation='relu'))\n",
        "    model.add(MaxPooling2D())\n",
        "    model.add(Dropout(0.3))\n",
        "    model.add(Flatten())\n",
        "    model.add(Dense(108, activation='relu'))\n",
        "    model.add(Dense(54, activation='relu'))\n",
        "    model.add(Dense(18, activation='sigmoid'))\n",
        "    model.add(Dense(num_classes, activation='softmax'))\n",
        "    # Compile model\n",
        "    model.compile(loss='categorical_crossentropy', optimizer='adam', metrics=['accuracy'])\n",
        "    return model\n",
        "# build the model\n",
        "model = baseline_model()\n",
        "# Fit the model\n",
        "history=model.fit(X_train, y_train, validation_data=(X_test, y_test), epochs=10)\n",
        "# Final evaluation of the model\n",
        "scores = model.evaluate(X_test, y_test, verbose=0)\n",
        "print(\"CNN Error: %.2f%%\" % (100-scores[1]*100))"
      ],
      "execution_count": 28,
      "outputs": [
        {
          "output_type": "stream",
          "text": [
            "Epoch 1/10\n",
            "1875/1875 [==============================] - 7s 4ms/step - loss: 0.3851 - accuracy: 0.9189 - val_loss: 0.0848 - val_accuracy: 0.9805\n",
            "Epoch 2/10\n",
            "1875/1875 [==============================] - 7s 3ms/step - loss: 0.0928 - accuracy: 0.9767 - val_loss: 0.0478 - val_accuracy: 0.9875\n",
            "Epoch 3/10\n",
            "1875/1875 [==============================] - 7s 3ms/step - loss: 0.0678 - accuracy: 0.9815 - val_loss: 0.0432 - val_accuracy: 0.9878\n",
            "Epoch 4/10\n",
            "1875/1875 [==============================] - 7s 4ms/step - loss: 0.0535 - accuracy: 0.9853 - val_loss: 0.0380 - val_accuracy: 0.9897\n",
            "Epoch 5/10\n",
            "1875/1875 [==============================] - 7s 4ms/step - loss: 0.0502 - accuracy: 0.9855 - val_loss: 0.0318 - val_accuracy: 0.9913\n",
            "Epoch 6/10\n",
            "1875/1875 [==============================] - 7s 4ms/step - loss: 0.0427 - accuracy: 0.9877 - val_loss: 0.0310 - val_accuracy: 0.9906\n",
            "Epoch 7/10\n",
            "1875/1875 [==============================] - 7s 4ms/step - loss: 0.0369 - accuracy: 0.9891 - val_loss: 0.0307 - val_accuracy: 0.9920\n",
            "Epoch 8/10\n",
            "1875/1875 [==============================] - 7s 4ms/step - loss: 0.0359 - accuracy: 0.9896 - val_loss: 0.0290 - val_accuracy: 0.9912\n",
            "Epoch 9/10\n",
            "1875/1875 [==============================] - 7s 4ms/step - loss: 0.0320 - accuracy: 0.9901 - val_loss: 0.0310 - val_accuracy: 0.9912\n",
            "Epoch 10/10\n",
            "1875/1875 [==============================] - 7s 4ms/step - loss: 0.0289 - accuracy: 0.9910 - val_loss: 0.0350 - val_accuracy: 0.9907\n",
            "CNN Error: 0.93%\n"
          ],
          "name": "stdout"
        }
      ]
    },
    {
      "cell_type": "code",
      "metadata": {
        "id": "OFoqw6amSV5W",
        "colab_type": "code",
        "colab": {
          "base_uri": "https://localhost:8080/",
          "height": 295
        },
        "outputId": "17f65bff-bb5f-4fa4-b5b8-c9a3f3551733"
      },
      "source": [
        "plt.plot(history.history['accuracy'])\n",
        "plt.plot(history.history['val_accuracy'])\n",
        "plt.title('Model accuracy')\n",
        "plt.ylabel('Accuracy')\n",
        "plt.xlabel('Epoch')\n",
        "plt.legend(['Train', 'Test'], loc='upper left')\n",
        "plt.show()"
      ],
      "execution_count": 29,
      "outputs": [
        {
          "output_type": "display_data",
          "data": {
            "image/png": "[encoded data removed]",
            "text/plain": [
              "<Figure size 432x288 with 1 Axes>"
            ]
          },
          "metadata": {
            "tags": []
          }
        }
      ]
    },
    {
      "cell_type": "code",
      "metadata": {
        "id": "wVfqqKkhMj5T",
        "colab_type": "code",
        "outputId": "b2936d13-2eb5-4b7c-c9cd-aa65c1b5ff1b",
        "colab": {
          "base_uri": "https://localhost:8080/",
          "height": 884
        }
      },
      "source": [
        "from tensorflow.python.keras.datasets import mnist\n",
        "from tensorflow.python.keras.models import Sequential\n",
        "from tensorflow.python.keras.layers import Dense\n",
        "from tensorflow.python.keras.layers import Dropout\n",
        "from tensorflow.python.keras.layers import Flatten\n",
        "from tensorflow.python.keras.layers.convolutional import Conv2D\n",
        "from tensorflow.python.keras.layers.convolutional import MaxPooling2D\n",
        "from tensorflow.python.keras.utils import np_utils\n",
        "from sklearn.utils import shuffle\n",
        "# load data\n",
        "(X_train, y_train), (X_test, y_test) = mnist.load_data()\n",
        "# reshape to be [samples][width][height][channels]\n",
        "X_train = X_train.reshape((X_train.shape[0], 28, 28, 1)).astype('float32')\n",
        "X_test = X_test.reshape((X_test.shape[0], 28, 28, 1)).astype('float32')\n",
        "# normalize inputs from 0-255 to 0-1\n",
        "X_train = X_train / 255\n",
        "X_test = X_test / 255\n",
        "# one hot encode outputs\n",
        "y_train = np_utils.to_categorical(y_train)\n",
        "y_test = np_utils.to_categorical(y_test)\n",
        "num_classes = y_test.shape[1]\n",
        "# define a simple CNN model\n",
        "def baseline_model():\n",
        "\t# create model\n",
        "    model = Sequential()\n",
        "    model.add(Conv2D(64, (3,3),padding='valid',input_shape=(28, 28, 1), activation='relu'))\n",
        "    model.add(MaxPooling2D())\n",
        "    model.add(Conv2D(128, (3, 3), activation='relu'))\n",
        "    model.add(MaxPooling2D())\n",
        "    model.add(Dropout(0.2))\n",
        "    model.add(Flatten())\n",
        "    model.add(Dense(108, activation='relu'))\n",
        "    model.add(Dense(54, activation='relu'))\n",
        "    model.add(Dropout(0.2))\n",
        "    model.add(Dense(18, activation='sigmoid'))\n",
        "    model.add(Dense(num_classes, activation='softmax'))\n",
        "    # Compile model\n",
        "    model.compile(loss='categorical_crossentropy', optimizer='adam', metrics=['accuracy'])\n",
        "    return model\n",
        "# build the model\n",
        "model = baseline_model()\n",
        "# Fit the model\n",
        "history=model.fit(X_t, y_t, validation_data=(X_test, y_test), epochs=25)\n",
        "# Final evaluation of the model\n",
        "scores = model.evaluate(X_test, y_test, verbose=0)\n",
        "print(\"CNN Error: %.2f%%\" % (100-scores[1]*100))"
      ],
      "execution_count": 26,
      "outputs": [
        {
          "output_type": "stream",
          "text": [
            "Epoch 1/25\n",
            "1875/1875 [==============================] - 7s 4ms/step - loss: 0.3569 - accuracy: 0.9324 - val_loss: 0.0876 - val_accuracy: 0.9812\n",
            "Epoch 2/25\n",
            "1875/1875 [==============================] - 7s 4ms/step - loss: 0.0828 - accuracy: 0.9806 - val_loss: 0.0496 - val_accuracy: 0.9884\n",
            "Epoch 3/25\n",
            "1875/1875 [==============================] - 7s 4ms/step - loss: 0.0561 - accuracy: 0.9864 - val_loss: 0.0481 - val_accuracy: 0.9878\n",
            "Epoch 4/25\n",
            "1875/1875 [==============================] - 7s 4ms/step - loss: 0.0457 - accuracy: 0.9881 - val_loss: 0.0361 - val_accuracy: 0.9901\n",
            "Epoch 5/25\n",
            "1875/1875 [==============================] - 7s 4ms/step - loss: 0.0352 - accuracy: 0.9910 - val_loss: 0.0469 - val_accuracy: 0.9879\n",
            "Epoch 6/25\n",
            "1875/1875 [==============================] - 7s 4ms/step - loss: 0.0295 - accuracy: 0.9923 - val_loss: 0.0339 - val_accuracy: 0.9916\n",
            "Epoch 7/25\n",
            "1875/1875 [==============================] - 7s 4ms/step - loss: 0.0281 - accuracy: 0.9925 - val_loss: 0.0334 - val_accuracy: 0.9918\n",
            "Epoch 8/25\n",
            "1875/1875 [==============================] - 7s 4ms/step - loss: 0.0221 - accuracy: 0.9944 - val_loss: 0.0396 - val_accuracy: 0.9899\n",
            "Epoch 9/25\n",
            "1875/1875 [==============================] - 7s 4ms/step - loss: 0.0205 - accuracy: 0.9947 - val_loss: 0.0339 - val_accuracy: 0.9915\n",
            "Epoch 10/25\n",
            "1875/1875 [==============================] - 7s 4ms/step - loss: 0.0188 - accuracy: 0.9951 - val_loss: 0.0428 - val_accuracy: 0.9903\n",
            "Epoch 11/25\n",
            "1875/1875 [==============================] - 7s 4ms/step - loss: 0.0187 - accuracy: 0.9950 - val_loss: 0.0388 - val_accuracy: 0.9910\n",
            "Epoch 12/25\n",
            "1875/1875 [==============================] - 7s 4ms/step - loss: 0.0169 - accuracy: 0.9956 - val_loss: 0.0374 - val_accuracy: 0.9913\n",
            "Epoch 13/25\n",
            "1875/1875 [==============================] - 7s 4ms/step - loss: 0.0156 - accuracy: 0.9959 - val_loss: 0.0358 - val_accuracy: 0.9909\n",
            "Epoch 14/25\n",
            "1875/1875 [==============================] - 7s 4ms/step - loss: 0.0152 - accuracy: 0.9961 - val_loss: 0.0342 - val_accuracy: 0.9921\n",
            "Epoch 15/25\n",
            "1875/1875 [==============================] - 7s 4ms/step - loss: 0.0152 - accuracy: 0.9962 - val_loss: 0.0418 - val_accuracy: 0.9912\n",
            "Epoch 16/25\n",
            "1875/1875 [==============================] - 7s 4ms/step - loss: 0.0145 - accuracy: 0.9962 - val_loss: 0.0415 - val_accuracy: 0.9912\n",
            "Epoch 17/25\n",
            "1875/1875 [==============================] - 7s 4ms/step - loss: 0.0133 - accuracy: 0.9965 - val_loss: 0.0378 - val_accuracy: 0.9917\n",
            "Epoch 18/25\n",
            "1875/1875 [==============================] - 7s 4ms/step - loss: 0.0141 - accuracy: 0.9964 - val_loss: 0.0346 - val_accuracy: 0.9931\n",
            "Epoch 19/25\n",
            "1875/1875 [==============================] - 7s 4ms/step - loss: 0.0124 - accuracy: 0.9968 - val_loss: 0.0372 - val_accuracy: 0.9923\n",
            "Epoch 20/25\n",
            "1875/1875 [==============================] - 7s 4ms/step - loss: 0.0126 - accuracy: 0.9967 - val_loss: 0.0402 - val_accuracy: 0.9909\n",
            "Epoch 21/25\n",
            "1875/1875 [==============================] - 7s 4ms/step - loss: 0.0120 - accuracy: 0.9970 - val_loss: 0.0507 - val_accuracy: 0.9903\n",
            "Epoch 22/25\n",
            "1875/1875 [==============================] - 7s 4ms/step - loss: 0.0111 - accuracy: 0.9973 - val_loss: 0.0355 - val_accuracy: 0.9928\n",
            "Epoch 23/25\n",
            "1875/1875 [==============================] - 7s 4ms/step - loss: 0.0116 - accuracy: 0.9970 - val_loss: 0.0473 - val_accuracy: 0.9922\n",
            "Epoch 24/25\n",
            "1875/1875 [==============================] - 7s 4ms/step - loss: 0.0086 - accuracy: 0.9978 - val_loss: 0.0399 - val_accuracy: 0.9925\n",
            "Epoch 25/25\n",
            "1875/1875 [==============================] - 7s 4ms/step - loss: 0.0127 - accuracy: 0.9970 - val_loss: 0.0445 - val_accuracy: 0.9915\n",
            "CNN Error: 0.85%\n"
          ],
          "name": "stdout"
        }
      ]
    },
    {
      "cell_type": "code",
      "metadata": {
        "id": "F9oBP7vVSTfu",
        "colab_type": "code",
        "colab": {
          "base_uri": "https://localhost:8080/",
          "height": 295
        },
        "outputId": "2aa1f7fe-af27-4e62-88b1-1ebd5ac0e21e"
      },
      "source": [
        "plt.plot(history.history['accuracy'])\n",
        "plt.plot(history.history['val_accuracy'])\n",
        "plt.title('Model accuracy')\n",
        "plt.ylabel('Accuracy')\n",
        "plt.xlabel('Epoch')\n",
        "plt.legend(['Train', 'Test'], loc='upper left')\n",
        "plt.show()"
      ],
      "execution_count": 27,
      "outputs": [
        {
          "output_type": "display_data",
          "data": {
            "image/png": "[encoded data removed]",
            "text/plain": [
              "<Figure size 432x288 with 1 Axes>"
            ]
          },
          "metadata": {
            "tags": []
          }
        }
      ]
    },
    {
      "cell_type": "code",
      "metadata": {
        "id": "-lakodRiOi6x",
        "colab_type": "code",
        "colab": {}
      },
      "source": [
        ""
      ],
      "execution_count": 0,
      "outputs": []
    }
  ]
}